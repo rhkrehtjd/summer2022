{
 "cells": [
  {
   "cell_type": "markdown",
   "id": "56d2bafc-ac2f-4b63-80c5-c54155e91507",
   "metadata": {},
   "source": [
    "> ### 설명가능한 AI"
   ]
  },
  {
   "cell_type": "markdown",
   "id": "3a91f132-5d43-4600-9a3f-2d30c678dd67",
   "metadata": {},
   "source": [
    "모델과 데이터가 복잡해짐에 따라, 성능이 좋아짐에 따라 , 이 모델들이 어떻게 작동하는지는 잘 모르겠음"
   ]
  },
  {
   "cell_type": "markdown",
   "id": "82100f26-319e-4d6f-bf23-3e1e307e1f6b",
   "metadata": {},
   "source": [
    "즉 블랙박스 현상이 발생하게 됨"
   ]
  },
  {
   "cell_type": "markdown",
   "id": "2b7ff703-06c1-40b1-a2cf-fe38c23cfb42",
   "metadata": {},
   "source": [
    "입력을 하긴 했으나, 왜 이런 예측을 했는지 이유를 설명하지 못하게 됨"
   ]
  },
  {
   "cell_type": "markdown",
   "id": "96a09a7f-4672-45e3-90c4-a10d733353d8",
   "metadata": {},
   "source": [
    "- 허나, 이런 이유를 설명하지 못하면 생기는 문제가 많음\n",
    "- 예를 들어, AI 편향성 문제가 있을 수 있음"
   ]
  },
  {
   "cell_type": "markdown",
   "id": "3b833f99-9c47-4d32-a16e-f30795ee5e33",
   "metadata": {},
   "source": [
    "---"
   ]
  },
  {
   "cell_type": "markdown",
   "id": "e01459b7-d8c2-40ba-aa33-5e9ceef00fb6",
   "metadata": {},
   "source": [
    "XAI 기법을 통해 모델이나 데이터셋의 오류를 색출할 수 있음\n",
    "\n",
    "모델이 얼마나 편향되었는지도 알 수 있음\n",
    "\n",
    "예측 시스템을 간단하게 설명해봄으로써 문제를 찾아내는 것\n",
    "\n",
    "예를 들어 자율주행자동차가 사고를 냈는데, 이때 인식 알고리즘이 어떤 오류를 범했는지 설명하는 것은 매우 중요한 문제임\n",
    "\n",
    "엑스레이 사진을 통해 코로나 19를 자동진단하는 시스템에서, 여느 의사도 전적으로 이 모델을 믿을 순 없을 것, 이때 왜 알고리즘이 이런 예측을 했는지 설명할 수 있다면 설득력은 높아질 것.\n",
    "\n",
    "좀 더 근본적으로 설명한다는 것은 무엇을 뜻하는가?"
   ]
  },
  {
   "cell_type": "markdown",
   "id": "bb024b36-0fc8-4ea1-932c-a9166798c385",
   "metadata": {},
   "source": [
    "---"
   ]
  },
  {
   "cell_type": "markdown",
   "id": "519c4ce1-7570-498d-9daf-cc32a9f79e64",
   "metadata": {},
   "source": [
    "사람이 모델을 쓸 떄 그 동작을 이해하고 신뢰할 수 있게 해주는 기계학습 모델\n",
    "\n",
    "=> XAI"
   ]
  },
  {
   "cell_type": "markdown",
   "id": "9964b319-63b9-4e57-859f-f9501da8d8a1",
   "metadata": {},
   "source": [
    "고전적인 머신러닝 모델은 global, white box, intrinsic, model-specific이라고 할 수 있음\n",
    "\n",
    "즉 모델이 설명 가능했음\n",
    "\n",
    "선형모델이나 결정트리모델이 있을 수 있음\n",
    "\n",
    "---\n",
    "반면 예를 들어, grad-cam 모델은 local, white-box,post-hoc 등으로 구분할 수 있음\n",
    "\n",
    "즉, 모델별로 어떤 특성을 띄고 있는가에 따라 설명할 수 있는 방법이 다른 것임\n"
   ]
  },
  {
   "cell_type": "markdown",
   "id": "f4584af9-4ced-46d3-a934-8bb67b475e01",
   "metadata": {},
   "source": [
    "---"
   ]
  },
  {
   "cell_type": "markdown",
   "id": "f4ffa5b0-4382-490d-a3c7-de9675cda301",
   "metadata": {},
   "source": [
    "> ### CAM"
   ]
  },
  {
   "cell_type": "markdown",
   "id": "eda2cd7a-3cc3-49d8-92cf-cf083a1aa0e4",
   "metadata": {},
   "source": [
    "주어진 이미지의 분류 결과를 얻은 뒤에 CAM설명을 얻는 것 = XAI 기법\n",
    "\n",
    "CAM을 이용해서, 더 복잡한 기법들도 설명이 가능해질 수 있음"
   ]
  },
  {
   "cell_type": "markdown",
   "id": "b532ee8c-d4de-46e7-af5e-178c4112bc6a",
   "metadata": {},
   "source": [
    "단점 : model-specific한 방법임."
   ]
  },
  {
   "cell_type": "markdown",
   "id": "4d3b82a8-bfe6-4890-8f42-a2ca53e01b20",
   "metadata": {},
   "source": [
    "---"
   ]
  },
  {
   "cell_type": "markdown",
   "id": "a25d05aa-8f40-4d74-b198-ac1d1d8c3676",
   "metadata": {},
   "source": [
    "> ### CAM의 단점을 극복 => Grad-CAM"
   ]
  },
  {
   "cell_type": "markdown",
   "id": "1d780876-9322-4c52-b5cc-d10e598d497e",
   "metadata": {},
   "source": [
    "grad-cam의 설명결과를 통해 어떤 이유로 특정 예측을 하게 됐는지 확인하여 모델의 편향성을 확인할 수 있게됨"
   ]
  },
  {
   "cell_type": "markdown",
   "id": "f7786970-ab59-412f-977d-a915553facf1",
   "metadata": {},
   "source": [
    "----"
   ]
  },
  {
   "cell_type": "markdown",
   "id": "bda66fe4-93c9-42e8-8556-95e8a167e133",
   "metadata": {},
   "source": [
    "블랙박스 \n",
    "\n",
    "- 딥러닝 모델뿐만 아니라 주어진 입력과 그에 대한 출력만 얻을 수 있다면 어떤 모델에 대해서도 다 적응할 수 있는 설명 방법\n",
    "- 계산 복잡도가 매우 높아지긴 함 "
   ]
  },
  {
   "cell_type": "markdown",
   "id": "64737641-bbcf-43d7-95c5-39003bd76b01",
   "metadata": {},
   "source": [
    "---"
   ]
  }
 ],
 "metadata": {
  "kernelspec": {
   "display_name": "Python 3 (ipykernel)",
   "language": "python",
   "name": "python3"
  },
  "language_info": {
   "codemirror_mode": {
    "name": "ipython",
    "version": 3
   },
   "file_extension": ".py",
   "mimetype": "text/x-python",
   "name": "python",
   "nbconvert_exporter": "python",
   "pygments_lexer": "ipython3",
   "version": "3.9.12"
  }
 },
 "nbformat": 4,
 "nbformat_minor": 5
}
