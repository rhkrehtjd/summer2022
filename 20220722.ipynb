{
 "cells": [
  {
   "cell_type": "markdown",
   "id": "ea1584f3-9428-4b63-9510-fecb0acbcea7",
   "metadata": {},
   "source": [
    "> ### 서울대학교 지능정보 융합학과 이원종 교수님"
   ]
  },
  {
   "cell_type": "markdown",
   "id": "fcc76c70-b1a7-4ca0-a165-55617d770673",
   "metadata": {},
   "source": [
    "### 전통적 기계학습에서의 비지도 학습"
   ]
  },
  {
   "cell_type": "markdown",
   "id": "28b959e6-7571-4a61-9b2d-726351a07a3b",
   "metadata": {},
   "source": [
    "- k-means clustring\n",
    "  - 일단 데이터만 있고 그에 대한 레이블이 없음 \n",
    "  - 비지도 학습임\n",
    "  - 요즘의 비지도 학습과 차이가 있음\n",
    "  - 전통적 기계학습에서의 비지도 학습 => 차원이 낮음, 알고리즘의 개념 자체가 간단함, 사용하긴 좋으나,,, 실용성이 있나?\n",
    "  - 숫자적으로도 의미가 있는지 꼭 확인이 필요하다.\n",
    "  - 즉, 전통적 기계학습에서의 비지도 학습은 상당힌 좋은 문제나 연구가 많이 진행됐지만, 실제 활용에서는 의구심이 듦"
   ]
  },
  {
   "cell_type": "markdown",
   "id": "9a4f5061-f8bc-49f4-8557-e6959e130986",
   "metadata": {},
   "source": [
    "- 그 외에도 전통적 머신러닝에서의 비지도 학습은 여러가지가 있음"
   ]
  },
  {
   "cell_type": "markdown",
   "id": "8cf9c8b2-cb27-401b-9707-fefa86e21bdf",
   "metadata": {},
   "source": [
    "----"
   ]
  },
  {
   "cell_type": "markdown",
   "id": "02551e4e-ff59-4976-a146-f147eea8a987",
   "metadata": {},
   "source": [
    "> 딥러닝에서의 비지도 학습"
   ]
  },
  {
   "cell_type": "markdown",
   "id": "16ab9c32-66fc-4cbf-98bd-cd7b56194ef0",
   "metadata": {},
   "source": [
    "필드에서는 피처 엔지니어링이 매우 중요\n",
    "\n",
    "딥러닝은 이 피처 엔지니어링을 생략하는 게 핵심\n",
    "\n",
    "?,,,\n",
    "\n",
    "전통적 기계학습에선 잘 정리된 피처가 중요하고, 이때 사람의 수작업이 중요했음\n",
    "\n",
    "딥러닝에선 representation learning !\n",
    "\n",
    "정보 자체에 대한 고민을 하지 않고 딥러닝 모델 자체에 대한 고민을 함\n",
    "\n",
    "어떻게 하면 이 알고리즘이 스스로 중요한 정보를 잘 정리하여 문제를 해결할 것인가\n",
    "\n",
    "모델 중심 => 딥러닝\n",
    "\n",
    "피처 엔지니어링의 중요도가 하락하는 것\n",
    "\n"
   ]
  },
  {
   "cell_type": "markdown",
   "id": "d7d433a9-e330-4fff-bce3-e7bc20b4e3e6",
   "metadata": {},
   "source": [
    "---"
   ]
  },
  {
   "cell_type": "markdown",
   "id": "d3031048-8f64-4766-9049-0c21105b57c9",
   "metadata": {},
   "source": [
    "- 현 비지도 학습\n",
    "  - 고차원의 데이터\n",
    "  - 컨셉 자체가 복잡함\n",
    "  - 딥러닝으로 해결해야함"
   ]
  },
  {
   "cell_type": "markdown",
   "id": "1aab00a5-cc3d-4038-ab7d-4a421bff1239",
   "metadata": {},
   "source": [
    "---"
   ]
  },
  {
   "cell_type": "markdown",
   "id": "f182067f-ac5d-4f68-9ad9-46c7347311c9",
   "metadata": {},
   "source": [
    "### ***representation learning???😃"
   ]
  },
  {
   "cell_type": "markdown",
   "id": "dc26370b-95a3-434d-9528-cc402ecbf030",
   "metadata": {},
   "source": [
    "우리가 생각하는 숫자 개념과 알고리즘이 생각하는 숫자 개념이 상이할 수 있음\n",
    "\n",
    "하나의 스칼라 값으로 표현하지 않고 두 개의 스칼라 값으로 표현\n",
    "\n",
    "즉 좌표 값으로 표현해보자\n",
    "\n",
    "-----\n"
   ]
  },
  {
   "cell_type": "markdown",
   "id": "fd26b012-eb94-424d-bd70-179cf39b841f",
   "metadata": {},
   "source": [
    "representation ??? 정보를 어떤 식으로 표현할 것인가???\n",
    "\n",
    "인간은 이해할 수 있는 개념이기에 정보를 어떻게 디자인하고 가공해야 특정 알고리즘에서 효과를 극대화할 수 있는지 가능함\n",
    "\n",
    "인간이 이렇게 도와주지 않으면 대부분 좋은 성능을 낼 수 없음\n",
    "\n",
    "어떤 x라는 개념이 있을 때 수학적인 기호들로 표현하는 rule!!\n",
    "=>이게 바로 representation이라고 할 수 있음"
   ]
  }
 ],
 "metadata": {
  "kernelspec": {
   "display_name": "Python 3 (ipykernel)",
   "language": "python",
   "name": "python3"
  },
  "language_info": {
   "codemirror_mode": {
    "name": "ipython",
    "version": 3
   },
   "file_extension": ".py",
   "mimetype": "text/x-python",
   "name": "python",
   "nbconvert_exporter": "python",
   "pygments_lexer": "ipython3",
   "version": "3.9.12"
  }
 },
 "nbformat": 4,
 "nbformat_minor": 5
}
